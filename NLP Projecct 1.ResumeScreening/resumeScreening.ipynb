{
 "cells": [
  {
   "cell_type": "markdown",
   "metadata": {
    "id": "VPGVNNhtaDLp"
   },
   "source": [
    " # Resume Screening with Python"
   ]
  },
  {
   "cell_type": "code",
   "execution_count": null,
   "metadata": {
    "id": "PvIsELwyHUpy"
   },
   "outputs": [],
   "source": [
    "#importing libraries\n",
    "#importing numpy,pandas,matplotlib and warnings library\n",
    "import numpy as np \n",
    "import pandas as pd\n",
    "import matplotlib.pyplot as plt\n",
    "import warnings\n",
    "warnings.filterwarnings('ignore')"
   ]
  },
  {
   "cell_type": "code",
   "execution_count": null,
   "metadata": {
    "colab": {
     "base_uri": "https://localhost:8080/",
     "height": 204
    },
    "id": "sDlCDKCgiatU",
    "outputId": "4e5da23c-d690-4afa-cf63-51e9cdea2401"
   },
   "outputs": [],
   "source": [
    "#loading the data as DataFrame\n",
    "#reading and storing CSV file into variabe resumeData\n",
    "resumeData = pd.read_csv('resume_dataset.csv' ,encoding='utf-8')\n",
    "#Creating a new column structured_resume\n",
    "resumeData['structured_resume'] = ''\n",
    "resumeData.head()"
   ]
  },
  {
   "cell_type": "code",
   "execution_count": null,
   "metadata": {
    "colab": {
     "base_uri": "https://localhost:8080/"
    },
    "id": "U8TpfT5nHfqn",
    "outputId": "7cb0c027-2d3a-4bb5-cc7a-8d194140d642"
   },
   "outputs": [],
   "source": [
    "#printing the unique categories presented in the resumes\n",
    "print(\"Displaying the unique categories in resume \")\n",
    "print(resumeData['Category'].unique())"
   ]
  },
  {
   "cell_type": "code",
   "execution_count": null,
   "metadata": {
    "colab": {
     "base_uri": "https://localhost:8080/"
    },
    "id": "0wDDm_UeKWk-",
    "outputId": "8f4e2d33-953b-4c5a-a010-a86c1fa5af29"
   },
   "outputs": [],
   "source": [
    "#Printing the unique categories of resume and number of records present\n",
    "print (\"Displaying the unique categories of resume and number of records\")\n",
    "Datas=resumeData['Category'].value_counts()\n",
    "print(Datas)"
   ]
  },
  {
   "cell_type": "code",
   "execution_count": null,
   "metadata": {
    "colab": {
     "base_uri": "https://localhost:8080/",
     "height": 745
    },
    "id": "GvGu_99Wp0br",
    "outputId": "77151def-015a-4c33-fc57-2d15e6d188f6"
   },
   "outputs": [],
   "source": [
    "#Importing seaborn plotting the graph between Categories vs count\n",
    "import seaborn as sns\n",
    "plt.figure(figsize=(10,10))\n",
    "ax = sns.countplot(x=\"Category\", data=resumeData,palette=\"bright\")\n",
    "ax.set_xticklabels(ax.get_xticklabels(), rotation=40, ha=\"right\")\n",
    "plt.tight_layout()\n",
    "plt.title(\"Category vs Count\")\n",
    "plt.show()"
   ]
  },
  {
   "cell_type": "code",
   "execution_count": null,
   "metadata": {
    "id": "kskMY32NKk0Z"
   },
   "outputs": [],
   "source": [
    "#plotting piechart using Matplotlib\n",
    "from matplotlib.gridspec import GridSpec\n",
    "targetCount = resumeData['Category'].value_counts()\n",
    "targetLabel  = resumeData['Category'].unique()"
   ]
  },
  {
   "cell_type": "code",
   "execution_count": null,
   "metadata": {
    "colab": {
     "base_uri": "https://localhost:8080/",
     "height": 591
    },
    "id": "K6Mu6kKUuFiY",
    "outputId": "06eb529f-9da5-4675-eac9-aedff3b499bf"
   },
   "outputs": [],
   "source": [
    "#Making the square figures and axes\n",
    "plt.figure(1, figsize=(22,22))\n",
    "the_grid = GridSpec(2, 2)\n",
    "cmap = plt.get_cmap('Wistia')\n",
    "colors = [cmap(i) for i in np.linspace(0, 1, 3)]\n",
    "plt.subplot(the_grid[0, 1], aspect=1, title='Category Distribution')\n",
    "source_pie = plt.pie(targetCount, labels=targetLabel, autopct='%1.1f%%', shadow=True, colors=colors)\n",
    "plt.show()"
   ]
  },
  {
   "cell_type": "code",
   "execution_count": null,
   "metadata": {
    "id": "3YIT5Vr2KpOj"
   },
   "outputs": [],
   "source": [
    "#importing re library\n",
    "import re\n",
    "#Function for cleaning Resume\n",
    "def clean_resume(Text):\n",
    "    Text = re.sub('http\\S+\\s*', ' ', Text)  # remove URLs in the text\n",
    "    Text = re.sub('@\\S+', '  ', Text)  # remove mentions in the text\n",
    "    Text = re.sub('[%s]' % re.escape(\"\"\"!\"#$%&'()*+,-./:;<=>?@[\\]^_`{|}~\"\"\"), ' ', Text)  # remove punctuations in the text\n",
    "    Text = re.sub('RT|cc', ' ', Text)  # remove RT and cc in the text\n",
    "    Text = re.sub('#\\S+', '', Text)  # remove hashtags in the text\n",
    "    Text = re.sub(r'[^\\x00-\\x7f]',r' ',Text) \n",
    "    Text = re.sub('\\s+', ' ', Text)  # remove extra whitespace in the text\n",
    "    return Text\n",
    "    \n",
    "resumeData['structured_resume'] = resumeData.Resume.apply(lambda x: clean_resume(x))"
   ]
  },
  {
   "cell_type": "code",
   "execution_count": null,
   "metadata": {
    "colab": {
     "base_uri": "https://localhost:8080/"
    },
    "id": "BUHVGjGOKtUj",
    "outputId": "62e7b2eb-3bef-49c5-bd6b-867c336433fb"
   },
   "outputs": [],
   "source": [
    "#Importing NLTK library\n",
    "import nltk\n",
    "from nltk.corpus import stopwords\n",
    "import string\n",
    "#Importing Wordcloud library\n",
    "from wordcloud import WordCloud\n",
    "nltk.download('stopwords')\n",
    "nltk.download('punkt')"
   ]
  },
  {
   "cell_type": "code",
   "execution_count": null,
   "metadata": {
    "id": "ae3SI0B7upIP"
   },
   "outputs": [],
   "source": [
    "#cleaning the sentences\n",
    "Set_Of_StopWords = set(stopwords.words('english')+['``',\"''\"])\n",
    "total_Words =[]\n",
    "Sentences = resumeData['Resume'].values\n",
    "cleaned_Sentences = \"\"\n",
    "for i in range(0,160):\n",
    "    cleanedText = clean_resume(Sentences[i])\n",
    "    cleaned_Sentences += cleanedText\n",
    "    requiredWords = nltk.word_tokenize(cleanedText)\n",
    "    for word in requiredWords:\n",
    "        if word not in Set_Of_StopWords and word not in string.punctuation:\n",
    "            total_Words.append(word)"
   ]
  },
  {
   "cell_type": "code",
   "execution_count": null,
   "metadata": {
    "colab": {
     "base_uri": "https://localhost:8080/"
    },
    "id": "BVNiDPFFuuYb",
    "outputId": "4b24a897-a61d-4b76-e24c-5069db43682a"
   },
   "outputs": [],
   "source": [
    "#Using wordcloud we are finding the frequency of words\n",
    "wordfrequencydist = nltk.FreqDist(total_Words)\n",
    "mostCommon = wordfrequencydist.most_common(50)\n",
    "print(mostCommon)\n"
   ]
  },
  {
   "cell_type": "code",
   "execution_count": null,
   "metadata": {
    "colab": {
     "base_uri": "https://localhost:8080/",
     "height": 422
    },
    "id": "8JvqfMABvWA_",
    "outputId": "5c535d13-252a-4d26-f3a0-6fc19597af06"
   },
   "outputs": [],
   "source": [
    "#plotting the frequency of words using Wordcloud library\n",
    "word_cloud = WordCloud(background_color=\"white\").generate(cleaned_Sentences)\n",
    "plt.figure(figsize=(14,14))\n",
    "plt.imshow(word_cloud,interpolation=\"bilinear\")\n",
    "plt.axis(\"off\")\n",
    "plt.show()"
   ]
  },
  {
   "cell_type": "code",
   "execution_count": null,
   "metadata": {
    "id": "2x9CrtbXafmZ"
   },
   "outputs": [],
   "source": [
    "#Importing sklearn library\n",
    "from sklearn import metrics\n",
    "from sklearn.metrics import accuracy_score\n",
    "from pandas.plotting import scatter_matrix\n",
    "from sklearn.neighbors import KNeighborsClassifier\n",
    "from sklearn.naive_bayes import MultinomialNB\n",
    "from sklearn.multiclass import OneVsRestClassifier"
   ]
  },
  {
   "cell_type": "code",
   "execution_count": null,
   "metadata": {
    "id": "Myjw4HUsKyLr"
   },
   "outputs": [],
   "source": [
    "#Importing LabelEncoder from sklearn\n",
    "from sklearn.preprocessing import LabelEncoder\n",
    "#Converting words in to categorical values\n",
    "var_mod = ['Category']\n",
    "le = LabelEncoder()\n",
    "for i in var_mod:\n",
    "    resumeData[i] = le.fit_transform(resumeData[i])"
   ]
  },
  {
   "cell_type": "code",
   "execution_count": null,
   "metadata": {
    "colab": {
     "base_uri": "https://localhost:8080/"
    },
    "id": "JY3ggpzgLLkF",
    "outputId": "6d3a6275-fabd-499d-ba1b-9944ad8ff7cc"
   },
   "outputs": [],
   "source": [
    "#mporting library from splitting training and testing dataset\n",
    "from sklearn.model_selection import train_test_split\n",
    "#Convert a collection of raw documents to a matrix of TF-IDF features\n",
    "from sklearn.feature_extraction.text import TfidfVectorizer\n",
    "from scipy.sparse import hstack\n",
    "required_Text = resumeData['structured_resume'].values\n",
    "required_Target = resumeData['Category'].values\n",
    "word_vectorizer = TfidfVectorizer(sublinear_tf=True,stop_words='english',max_features=1500)\n",
    "word_vectorizer.fit(required_Text)\n",
    "WordFeatures = word_vectorizer.transform(required_Text)\n",
    "print (\"Feature completed\")\n"
   ]
  },
  {
   "cell_type": "code",
   "execution_count": null,
   "metadata": {
    "colab": {
     "base_uri": "https://localhost:8080/"
    },
    "id": "OGwj3sHEzulz",
    "outputId": "02f0dc5a-caf4-463d-8924-1ba7a8ceafe5"
   },
   "outputs": [],
   "source": [
    "#Splitting training and testing dataset\n",
    "X_train,X_test,y_train,y_test = train_test_split(WordFeatures,required_Target,random_state=0, test_size=0.2)\n",
    "print(X_train.shape)\n",
    "print(X_test.shape)"
   ]
  },
  {
   "cell_type": "code",
   "execution_count": null,
   "metadata": {
    "colab": {
     "base_uri": "https://localhost:8080/"
    },
    "id": "BHAbhymhLPNg",
    "outputId": "9c632453-9ced-465d-e8fc-61e20a9c7bc0"
   },
   "outputs": [],
   "source": [
    "#training the model and printing the classification report\n",
    "#Here we are using the one vs the rest classifier KNeighborsClassifier\n",
    "clf = OneVsRestClassifier(KNeighborsClassifier())\n",
    "clf.fit(X_train, y_train)\n",
    "prediction = clf.predict(X_test)\n",
    "print(\"KNeighbors Classifier\")\n",
    "print('Accuracy on training dataset: {:.2f}'.format(clf.score(X_train, y_train)))\n",
    "print('Accuracy on test dataset: {:.2f}'.format(clf.score(X_test, y_test)))\n",
    "\n",
    "print(metrics.classification_report(y_test, prediction))"
   ]
  }
 ],
 "metadata": {
  "colab": {
   "name": "resumeScreening.ipynb",
   "provenance": []
  },
  "kernelspec": {
   "display_name": "nlpenv",
   "language": "python",
   "name": "python3"
  },
  "language_info": {
   "codemirror_mode": {
    "name": "ipython",
    "version": 3
   },
   "file_extension": ".py",
   "mimetype": "text/x-python",
   "name": "python",
   "nbconvert_exporter": "python",
   "pygments_lexer": "ipython3",
   "version": "3.9.20"
  }
 },
 "nbformat": 4,
 "nbformat_minor": 0
}
